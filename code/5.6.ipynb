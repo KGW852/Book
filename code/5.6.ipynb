{
 "cells": [
  {
   "cell_type": "code",
   "execution_count": null,
   "id": "9414c3c0-e00d-4d8d-b9d7-faf7d7314658",
   "metadata": {},
   "outputs": [],
   "source": [
    "import pandas as pd\n",
    "iris = pd.read_csv('https://raw.githubusercontent.com/KGW852/class/main/data/iris_data.csv')\n",
    "\n",
    "iris.head()"
   ]
  },
  {
   "cell_type": "code",
   "execution_count": null,
   "id": "df1c2b78-ded7-4b7e-9fb4-6133c6427ec7",
   "metadata": {},
   "outputs": [],
   "source": [
    "# 인풋과 아웃풋 데이터 만들기\n",
    "iris_input = iris[['sepal_length', 'sepal_width', 'petal_length', 'petal_width']].to_numpy()\n",
    "iris_target = iris['class'].to_numpy()"
   ]
  },
  {
   "cell_type": "code",
   "execution_count": null,
   "id": "36a362a7-d178-4641-844f-b69fc4286435",
   "metadata": {},
   "outputs": [],
   "source": [
    "# 훈련세트와 테스트세트로 분리하기\n",
    "from sklearn.model_selection import train_test_split\n",
    "\n",
    "train_input, test_input, train_target, test_target = train_test_split(iris_input, iris_target, random_state=13)"
   ]
  },
  {
   "cell_type": "code",
   "execution_count": null,
   "id": "02c1709d-ee17-446c-be7f-17e1c6ee46da",
   "metadata": {},
   "outputs": [],
   "source": [
    "# 데이터 정규화\n",
    "from sklearn.preprocessing import StandardScaler\n",
    "\n",
    "ss = StandardScaler()\n",
    "ss.fit(train_input)\n",
    "train_scaled = ss.transform(train_input)\n",
    "test_scaled = ss.transform(test_input)"
   ]
  },
  {
   "cell_type": "code",
   "execution_count": null,
   "id": "343db79d-b22f-407d-bcfc-6c534b6a4e63",
   "metadata": {},
   "outputs": [],
   "source": [
    "# SGDClassifier 학습\n",
    "from sklearn.linear_model import SGDClassifier\n",
    "\n",
    "sc = SGDClassifier(loss='log_loss', max_iter=10, random_state=13)"
   ]
  },
  {
   "cell_type": "code",
   "execution_count": null,
   "id": "59eddcce-9bf6-43a8-afc3-68bd650e0f36",
   "metadata": {},
   "outputs": [],
   "source": [
    "sc.fit(train_scaled, train_target)"
   ]
  },
  {
   "cell_type": "code",
   "execution_count": null,
   "id": "b470bd85-1815-4a7c-9e79-51a6d0c7c9d3",
   "metadata": {},
   "outputs": [],
   "source": [
    "# 학습결과 확인\n",
    "print(sc.score(train_scaled, train_target))\n",
    "print(sc.score(test_scaled, test_target))"
   ]
  },
  {
   "cell_type": "code",
   "execution_count": null,
   "id": "6b6d8f23-b804-471d-a4c4-323e9f523cc0",
   "metadata": {
    "scrolled": true
   },
   "outputs": [],
   "source": [
    "# 1epoch씩 추가 재학습\n",
    "sc.partial_fit(train_scaled, train_target)"
   ]
  },
  {
   "cell_type": "code",
   "execution_count": null,
   "id": "dc7f96ff-26ab-4ca9-892b-1e0564af5246",
   "metadata": {},
   "outputs": [],
   "source": [
    "# 학습결과 확인\n",
    "print(sc.score(train_scaled, train_target))\n",
    "print(sc.score(test_scaled, test_target))"
   ]
  },
  {
   "cell_type": "code",
   "execution_count": null,
   "id": "49841d06-6132-4279-ba46-43b77f9d53a0",
   "metadata": {},
   "outputs": [],
   "source": [
    "# 에포크마다 훈련 & 테스트세트 점수 기록\n",
    "import numpy as np\n",
    "sc = SGDClassifier(loss='log_loss', random_state=13)\n",
    "train_score = []\n",
    "test_score = []\n",
    "classes = np.unique(train_target)\n",
    "\n",
    "for i in range(0, 200):\n",
    "    sc.partial_fit(train_scaled, train_target, classes=classes)\n",
    "    train_score.append(sc.score(train_scaled, train_target))\n",
    "    test_score.append(sc.score(test_scaled, test_target))"
   ]
  },
  {
   "cell_type": "code",
   "execution_count": null,
   "id": "2f705b38-aa00-49dc-ad13-aff44cc0173c",
   "metadata": {},
   "outputs": [],
   "source": [
    "# Epoch 횟수별 점수 시각화\n",
    "import matplotlib.pyplot as plt\n",
    "\n",
    "plt.plot(train_score, 'b')\n",
    "plt.plot(test_score, 'r')\n",
    "plt.xlabel('epoch')\n",
    "plt.ylabel('accuracy')\n",
    "plt.grid()\n",
    "plt.show()"
   ]
  },
  {
   "cell_type": "code",
   "execution_count": null,
   "id": "3c11c75a-57dd-4bab-8cf4-cdbe2affed38",
   "metadata": {},
   "outputs": [],
   "source": [
    "# Epoch 100회, 모델 재생성\n",
    "sc = SGDClassifier(loss='log_loss', max_iter=125, tol=None, random_state=13)"
   ]
  },
  {
   "cell_type": "code",
   "execution_count": null,
   "id": "720a06dc-c08f-45b8-ba72-f92031900206",
   "metadata": {},
   "outputs": [],
   "source": [
    "sc.fit(train_scaled, train_target)"
   ]
  },
  {
   "cell_type": "code",
   "execution_count": null,
   "id": "ac3bcf46-36db-422c-9820-b78bd09cc7b9",
   "metadata": {},
   "outputs": [],
   "source": [
    "# 학습결과 확인\n",
    "print(sc.score(train_scaled, train_target))\n",
    "print(sc.score(test_scaled, test_target))"
   ]
  },
  {
   "cell_type": "markdown",
   "id": "73a9c395-99b1-4ee1-9229-0739721cde16",
   "metadata": {},
   "source": [
    "### 선형회귀 모델 SGD를 이용한 최적화"
   ]
  },
  {
   "cell_type": "code",
   "execution_count": null,
   "id": "7a549a4e-75e8-45df-bdf9-3335cdc4c3b6",
   "metadata": {},
   "outputs": [],
   "source": [
    "import matplotlib.pyplot as plt\n",
    "import numpy as np\n",
    "from matplotlib.animation import FuncAnimation\n",
    "from sklearn.linear_model import SGDRegressor\n",
    "from sklearn.model_selection import train_test_split\n",
    "from sklearn.preprocessing import StandardScaler\n",
    "\n",
    "# 물고기 데이터 입력\n",
    "fish_length = np.array([8.4, 13.7, 15.0, 16.2, 17.4, 18.0, 18.7, 19.0, 19.6, 20.0, 21.0,\n",
    "       21.0, 21.0, 21.3, 22.0, 22.0, 22.0, 22.0, 22.0, 22.5, 22.5, 22.7,\n",
    "       23.0, 23.5, 24.0, 24.0, 24.6, 25.0, 25.6, 26.5, 27.3, 27.5, 27.5,\n",
    "       27.5, 28.0, 28.7, 30.0, 32.8, 34.5, 35.0, 36.5, 36.0, 37.0, 37.0,\n",
    "       39.0, 39.0, 39.0, 40.0, 40.0, 40.0, 40.0, 42.0, 43.0, 43.0, 43.5,\n",
    "       44.0])\n",
    "fish_weight = np.array([5.9, 32.0, 40.0, 51.5, 70.0, 100.0, 78.0, 80.0, 85.0, 85.0, 110.0,\n",
    "       115.0, 125.0, 130.0, 120.0, 120.0, 130.0, 135.0, 110.0, 130.0,\n",
    "       150.0, 145.0, 150.0, 170.0, 225.0, 145.0, 188.0, 180.0, 197.0,\n",
    "       218.0, 300.0, 260.0, 265.0, 250.0, 250.0, 300.0, 320.0, 514.0,\n",
    "       556.0, 840.0, 685.0, 700.0, 700.0, 690.0, 900.0, 650.0, 820.0,\n",
    "       850.0, 900.0, 1015.0, 820.0, 1100.0, 1000.0, 1100.0, 1000.0,\n",
    "       1000.0])\n",
    "\n",
    "# 훈련/테스트 데이터 분리 (기존 코드와 동일)\n",
    "train_input, test_input, train_target, test_target = train_test_split(\n",
    "    fish_length, fish_weight, random_state=42\n",
    ")\n",
    "train_input = train_input.reshape(-1, 1)\n",
    "test_input = test_input.reshape(-1, 1)\n",
    "\n",
    "# 전처리\n",
    "scaler = StandardScaler()\n",
    "train_input_scaled = scaler.fit_transform(train_input)\n",
    "\n",
    "# SGD 모델 초기화 및 초기 학습 (스케일링된 데이터 사용)\n",
    "sgd = SGDRegressor(max_iter=1, eta0=0.01, random_state=42)\n",
    "sgd.fit(train_input_scaled, train_target) \n",
    "\n",
    "# 그래프 설정\n",
    "fig, ax = plt.subplots()\n",
    "x_min, x_max = train_input.min(), train_input.max() # 스케일링 되지 않은 값 사용\n",
    "y_min, y_max = train_target.min(), train_target.max()\n",
    "ax.set_xlim([x_min -5, x_max + 1]) \n",
    "ax.set_ylim([y_min - 100, y_max + 100])\n",
    "ax.scatter(train_input, train_target)\n",
    "line, = ax.plot(train_input, sgd.predict(scaler.transform(train_input)), 'r-')  # 회귀선 초기화\n",
    "\n",
    "# 텍스트 객체 생성\n",
    "plt.suptitle('SGD Optim', fontsize=14)\n",
    "text = ax.text(0.05, 0.85, '', transform=ax.transAxes)  # 왼쪽 상단에 텍스트 위치 설정\n",
    "\n",
    "# 애니메이션 프레임 생성\n",
    "def update(frame):\n",
    "    sgd.partial_fit(train_input_scaled, train_target)\n",
    "    line.set_ydata(sgd.predict(scaler.transform(train_input)))  # 회귀선 업데이트\n",
    "    # 스케일링된 모델의 기울기와 절편을 원본에 대한 값으로 변환\n",
    "    m = sgd.coef_[0] / scaler.scale_[0]\n",
    "    c = sgd.intercept_[0] - m * scaler.mean_[0]\n",
    "\n",
    "    text.set_text(f'Epoch {frame+1}\\nm: {m:.2f}, c: {c:.2f}')\n",
    "\n",
    "# 애니메이션 생성 및 저장\n",
    "ani = FuncAnimation(fig, update, frames=100, interval=50, repeat=True)\n",
    "save.fig()"
   ]
  },
  {
   "cell_type": "code",
   "execution_count": null,
   "id": "51f17af5-5bb6-4918-ba15-3663ff771dcb",
   "metadata": {},
   "outputs": [],
   "source": []
  }
 ],
 "metadata": {
  "kernelspec": {
   "display_name": "Python 3 (ipykernel)",
   "language": "python",
   "name": "python3"
  },
  "language_info": {
   "codemirror_mode": {
    "name": "ipython",
    "version": 3
   },
   "file_extension": ".py",
   "mimetype": "text/x-python",
   "name": "python",
   "nbconvert_exporter": "python",
   "pygments_lexer": "ipython3",
   "version": "3.11.5"
  },
  "widgets": {
   "application/vnd.jupyter.widget-state+json": {
    "state": {},
    "version_major": 2,
    "version_minor": 0
   }
  }
 },
 "nbformat": 4,
 "nbformat_minor": 5
}
