{
 "cells": [
  {
   "cell_type": "code",
   "execution_count": null,
   "id": "17211e74-a24f-4509-b2d9-8962611dc144",
   "metadata": {},
   "outputs": [],
   "source": [
    "import matplotlib.pyplot as plt\n",
    "import pandas as pd\n",
    "import numpy as np\n",
    "import os\n",
    "\n",
    "path = r'C:\\iris data'"
   ]
  },
  {
   "cell_type": "code",
   "execution_count": null,
   "id": "a184d87b-df1e-41ff-b800-d82715149a3f",
   "metadata": {},
   "outputs": [],
   "source": [
    "# iris 데이터를 판다스로 불러옵니다.\n",
    "iris = pd.read_csv(os.path.join(path, 'iris_data.csv'))\n",
    "iris.head()"
   ]
  },
  {
   "cell_type": "code",
   "execution_count": null,
   "id": "91a71821-1a04-4db3-acd5-f926a2970874",
   "metadata": {},
   "outputs": [],
   "source": [
    "# 'setosa', 'versicolor'클래스의 1~20행 'petal' 값을 추출합니다.\n",
    "setosa_length = iris.loc[iris['class'] == 'Iris-setosa', 'petal_length'].iloc[:50].to_list()\n",
    "setosa_width = iris.loc[iris['class'] == 'Iris-setosa', 'petal_width'].iloc[:50].to_list()\n",
    "versicolor_length = iris.loc[iris['class'] == 'Iris-versicolor', 'petal_length'].iloc[:50].to_list()\n",
    "versicolor_width = iris.loc[iris['class'] == 'Iris-versicolor', 'petal_width'].iloc[:50].to_list()\n",
    "\n",
    "# 추출된 값 확인\n",
    "print(setosa_length)\n",
    "print(setosa_width)\n",
    "print(versicolor_length)\n",
    "print(versicolor_width)"
   ]
  },
  {
   "cell_type": "code",
   "execution_count": null,
   "id": "dc244115-3530-4d44-8cbb-6e5d2ee58fa6",
   "metadata": {},
   "outputs": [],
   "source": [
    "# 'setosa', 'versicolor'의 x축 length, y축 width로 산점도 그리기.\n",
    "plt.scatter(setosa_length, setosa_width)\n",
    "plt.scatter(versicolor_length, versicolor_width)\n",
    "plt.xlabel('length')\n",
    "plt.ylabel('width')\n",
    "plt.title('setosa(1) versicolor(0) scatter')\n",
    "plt.show()"
   ]
  },
  {
   "cell_type": "code",
   "execution_count": null,
   "id": "749b93e1-9a1c-491c-bc5e-c217c184aa55",
   "metadata": {},
   "outputs": [],
   "source": [
    "# 'setosa', 'versicolor'의 리스트 합치기\n",
    "length = setosa_length + versicolor_length\n",
    "width = setosa_width + versicolor_width\n",
    "print(length)\n",
    "print(width)"
   ]
  },
  {
   "cell_type": "code",
   "execution_count": null,
   "id": "75d61e5a-48e0-4586-8a3d-6269ce28e28d",
   "metadata": {},
   "outputs": [],
   "source": [
    "# 'length', 'width'의 리스트 재생성\n",
    "iris_data = [[l, w] for l, w in zip(length, width)]\n",
    "print(iris_data)"
   ]
  },
  {
   "cell_type": "code",
   "execution_count": null,
   "id": "6f638cf1-7820-45d9-bf4a-4e226431b956",
   "metadata": {
    "scrolled": true
   },
   "outputs": [],
   "source": [
    "# 넘파이 2차원 배열형태로 변환\n",
    "input_arr = np.array(iris_data)\n",
    "target_arr = np.array(iris_target)\n",
    "print(input_arr)"
   ]
  },
  {
   "cell_type": "code",
   "execution_count": null,
   "id": "8906235c-40a8-4f50-a639-637de4dbf4fa",
   "metadata": {},
   "outputs": [],
   "source": [
    "print(input_arr.shape)"
   ]
  },
  {
   "cell_type": "code",
   "execution_count": null,
   "id": "6eeb1003-2fef-4480-a687-62a1de6d3fd0",
   "metadata": {},
   "outputs": [],
   "source": [
    "# 훈련세트와 테스트세트 분할을 위한 인덱스 생성\n",
    "np.random.seed(42)\n",
    "index = np.arange(99)\n",
    "np.random.shuffle(index)\n",
    "\n",
    "print(index)"
   ]
  },
  {
   "cell_type": "code",
   "execution_count": null,
   "id": "a92589bd-1360-4a28-8cb1-97bccf20c52e",
   "metadata": {},
   "outputs": [],
   "source": [
    "# 인덱스 적용 전 0번째 배열\n",
    "print(input_arr[[0]])"
   ]
  },
  {
   "cell_type": "code",
   "execution_count": null,
   "id": "bfffadec-90bb-42e2-b927-c527ad876ee7",
   "metadata": {},
   "outputs": [],
   "source": [
    "# 훈련세트 (값 + 정답) 만들기\n",
    "train_input = input_arr[index[:70]]\n",
    "train_target = target_arr[index[:70]]\n",
    "\n",
    "print(train_input[9])"
   ]
  },
  {
   "cell_type": "code",
   "execution_count": null,
   "id": "eef47449-8f22-406c-8e7e-7a509d1c4951",
   "metadata": {},
   "outputs": [],
   "source": [
    "# 테스트세트 (값 + 정답) 만들기\n",
    "test_input = input_arr[index[70:]]\n",
    "test_target = target_arr[index[70:]]"
   ]
  },
  {
   "cell_type": "code",
   "execution_count": null,
   "id": "51c06c4e-a21e-4468-ae8b-e2965431d9e8",
   "metadata": {},
   "outputs": [],
   "source": [
    "# 시각화\n",
    "plt.scatter(train_input[:,0], train_input[:,1])\n",
    "plt.scatter(test_input[:,0], test_input[:,1])\n",
    "\n",
    "plt.xlabel('length')\n",
    "plt.ylabel('width')\n",
    "plt.title('setosa(1) versicolor(0) scatter')\n",
    "\n",
    "plt.show()"
   ]
  },
  {
   "cell_type": "code",
   "execution_count": null,
   "id": "792e6ce8-c1c3-4e73-a719-a823e33d2823",
   "metadata": {},
   "outputs": [],
   "source": [
    "# 새로운 kn 모델 생성\n",
    "kn.fit(train_input, train_target)"
   ]
  },
  {
   "cell_type": "code",
   "execution_count": null,
   "id": "fed980f4-1998-4086-b2a6-20e09e8cf6d5",
   "metadata": {},
   "outputs": [],
   "source": [
    "kn.score(test_input, test_target)"
   ]
  },
  {
   "cell_type": "code",
   "execution_count": null,
   "id": "21f55238-25f9-43dc-9ccb-c120dd5ca4c3",
   "metadata": {},
   "outputs": [],
   "source": [
    "# predict로 test세트 확인\n",
    "kn.predict(test_input)"
   ]
  },
  {
   "cell_type": "code",
   "execution_count": null,
   "id": "40f2be99-7215-4ada-a27b-9a611e9f3290",
   "metadata": {},
   "outputs": [],
   "source": [
    "print(test_target)"
   ]
  },
  {
   "cell_type": "code",
   "execution_count": null,
   "id": "24894ff5-88ea-405c-8c84-dd200cda0be7",
   "metadata": {},
   "outputs": [],
   "source": [
    "# 새로운 데이터 예측.\n",
    "plt.scatter(train_input[:,0], train_input[:,1])\n",
    "plt.scatter(2.4, 1.3, marker='*')\n",
    "\n",
    "plt.xlabel('length')\n",
    "plt.ylabel('width')\n",
    "plt.title('setosa(1) versicolor(0) scatter')\n",
    "\n",
    "plt.show()"
   ]
  },
  {
   "cell_type": "code",
   "execution_count": null,
   "id": "8c393c46-468d-428d-986d-4872e9d20506",
   "metadata": {},
   "outputs": [],
   "source": [
    "# 새로운 데이터 예측\n",
    "kn.predict([[2.4, 1.3]])"
   ]
  },
  {
   "cell_type": "code",
   "execution_count": null,
   "id": "c97a6109-d885-400c-aa9c-1ade1be1b255",
   "metadata": {},
   "outputs": [],
   "source": [
    "# 5개의 이웃 찾기\n",
    "distances, indexes = kn.kneighbors([[2.4, 1.3]])"
   ]
  },
  {
   "cell_type": "code",
   "execution_count": null,
   "id": "f567575e-e046-495a-9ea9-7e63632bd7ac",
   "metadata": {},
   "outputs": [],
   "source": [
    "# 새로운 데이터 이웃 확인하기.\n",
    "plt.scatter(train_input[:,0], train_input[:,1])\n",
    "plt.scatter(2.4, 1.3, marker='*')\n",
    "plt.scatter(train_input[indexes, 0], train_input[indexes, 1], marker='D')\n",
    "\n",
    "plt.xlabel('length')\n",
    "plt.ylabel('width')\n",
    "plt.title('setosa(1) versicolor(0) scatter')\n",
    "\n",
    "plt.show()"
   ]
  },
  {
   "cell_type": "code",
   "execution_count": null,
   "id": "18c12eb6-4b24-4a95-9699-4b4bb97bf23c",
   "metadata": {},
   "outputs": [],
   "source": [
    "print(train_input[indexes])"
   ]
  },
  {
   "cell_type": "code",
   "execution_count": null,
   "id": "d3da61bb-73c7-4085-aacd-29144c105d1f",
   "metadata": {},
   "outputs": [],
   "source": [
    "print(train_target[indexes])"
   ]
  },
  {
   "cell_type": "code",
   "execution_count": null,
   "id": "1f829497-7d11-46b4-b084-a48b8af85fcb",
   "metadata": {},
   "outputs": [],
   "source": [
    "print(distances)"
   ]
  },
  {
   "cell_type": "code",
   "execution_count": null,
   "id": "5309a556-7b23-4cec-82ed-e5140497c431",
   "metadata": {},
   "outputs": [],
   "source": [
    "# 스케일 동일하게 맞추기\n",
    "plt.scatter(train_input[:,0], train_input[:,1])\n",
    "plt.scatter(2.4, 1.3, marker='*')\n",
    "plt.scatter(train_input[indexes, 0], train_input[indexes, 1], marker='D')\n",
    "\n",
    "plt.xlim((0, 5))\n",
    "plt.ylim((0, 5))\n",
    "\n",
    "plt.xlabel('length')\n",
    "plt.ylabel('width')\n",
    "plt.title('setosa(1) versicolor(0) scatter')\n",
    "\n",
    "plt.show()"
   ]
  },
  {
   "cell_type": "code",
   "execution_count": null,
   "id": "4ee7c9cb-4e28-4710-9402-4bc2a1a27055",
   "metadata": {},
   "outputs": [],
   "source": [
    "# 평균 및 표준편차 구하기\n",
    "mean = np.mean(train_input, axis=0)\n",
    "std = np.std(train_input, axis=0)"
   ]
  },
  {
   "cell_type": "code",
   "execution_count": null,
   "id": "2d24c0d9-d9b1-4cb1-8dd1-e08e374eb9f6",
   "metadata": {},
   "outputs": [],
   "source": [
    "# 표준점수 구하기\n",
    "train_scaled = (train_input - mean) / std\n",
    "print(train_scaled.shape)"
   ]
  },
  {
   "cell_type": "code",
   "execution_count": null,
   "id": "8a1086bd-b17a-48b3-bf01-b25eab1b520d",
   "metadata": {},
   "outputs": [],
   "source": [
    "# 샘플의 표준점수 구하기\n",
    "sample = ([2.4, 1.3] - mean) / std\n",
    "\n",
    "# 표준점수로 변환한 훈련세트 산점도 작성\n",
    "plt.scatter(train_scaled[:,0], train_scaled[:,1])\n",
    "plt.scatter(sample[0], sample[1], marker='*')\n",
    "\n",
    "plt.xlabel('length')\n",
    "plt.ylabel('width')\n",
    "plt.title('setosa(1) versicolor(0) scatter')\n",
    "\n",
    "plt.show()"
   ]
  },
  {
   "cell_type": "code",
   "execution_count": null,
   "id": "a6ffa4b6-0690-4476-9705-4e98e13a370e",
   "metadata": {},
   "outputs": [],
   "source": [
    "# k최근접이웃을 사용한 새로운 모델 훈련\n",
    "kn.fit(train_scaled, train_target)"
   ]
  },
  {
   "cell_type": "code",
   "execution_count": null,
   "id": "96ac2cca-346c-4850-be17-2ea14d7fb3d2",
   "metadata": {},
   "outputs": [],
   "source": [
    "# 테스트세트 표준점수 변환\n",
    "test_scaled = (test_input - mean) / std\n",
    "\n",
    "# 테스트세트에서 모델 평가\n",
    "kn.score(test_scaled, test_target)"
   ]
  },
  {
   "cell_type": "code",
   "execution_count": null,
   "id": "8a0c71a3-c358-4f03-9c4e-4e10e5f4c003",
   "metadata": {},
   "outputs": [],
   "source": [
    "print(kn.predict([sample]))"
   ]
  },
  {
   "cell_type": "code",
   "execution_count": null,
   "id": "9cbb7ea4-b30b-4f3a-932a-12a85e7124bf",
   "metadata": {},
   "outputs": [],
   "source": [
    "# 5개의 이웃 찾기\n",
    "distances, indexes = kn.kneighbors([sample])\n",
    "\n",
    "plt.scatter(train_scaled[:,0], train_scaled[:,1])\n",
    "plt.scatter(sample[0], sample[1], marker='*')\n",
    "plt.scatter(train_scaled[indexes, 0], train_scaled[indexes, 1], marker='D')\n",
    "\n",
    "plt.xlabel('length')\n",
    "plt.ylabel('width')\n",
    "plt.title('setosa(1) versicolor(0) scatter')\n",
    "\n",
    "plt.show()"
   ]
  }
 ],
 "metadata": {
  "kernelspec": {
   "display_name": "Python 3 (ipykernel)",
   "language": "python",
   "name": "python3"
  },
  "language_info": {
   "codemirror_mode": {
    "name": "ipython",
    "version": 3
   },
   "file_extension": ".py",
   "mimetype": "text/x-python",
   "name": "python",
   "nbconvert_exporter": "python",
   "pygments_lexer": "ipython3",
   "version": "3.11.5"
  },
  "widgets": {
   "application/vnd.jupyter.widget-state+json": {
    "state": {},
    "version_major": 2,
    "version_minor": 0
   }
  }
 },
 "nbformat": 4,
 "nbformat_minor": 5
}
