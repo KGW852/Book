{
 "cells": [
  {
   "cell_type": "code",
   "execution_count": null,
   "id": "9914a59e-4386-426e-b48a-b92fd9f2043b",
   "metadata": {},
   "outputs": [],
   "source": [
    "import pandas as pd"
   ]
  },
  {
   "cell_type": "code",
   "execution_count": null,
   "id": "1a32a4f6-57ee-42aa-8b68-ac3320940773",
   "metadata": {},
   "outputs": [],
   "source": [
    "list = [1, 3, 5, 7, 9, 11, 13, 15, 17, 19]\n",
    "\n",
    "print(list)\n",
    "\n",
    "print(list[0])\n",
    "\n",
    "print(list[-2:])\n",
    "\n",
    "print(list[1:5])\n",
    "\n",
    "print(list[-9:-5])\n",
    "\n",
    "print(list.index(17))"
   ]
  },
  {
   "cell_type": "code",
   "execution_count": null,
   "id": "d0572693-1587-41cf-b16f-9aa35f75583b",
   "metadata": {},
   "outputs": [],
   "source": [
    "import pandas as pd\n",
    "import numpy as np\n",
    "import os\n",
    "\n",
    "path = r'C:\\Users\\KGW85\\OneDrive\\수업자료(학부)\\코딩과응용\\Python\\iris data'"
   ]
  },
  {
   "cell_type": "code",
   "execution_count": null,
   "id": "6d82b739-aeae-42bb-a09d-0d91c169e556",
   "metadata": {},
   "outputs": [],
   "source": [
    "# iris.data 파일을 pandas를 통해 csv파일로 불러오기\n",
    "# header=None 옵션은 파일에서 첫 번째 행을 열 이름으로 사용하지 않도록 사용\n",
    "iris = pd.read_csv(os.path.join(path, 'iris.data'), header=None)\n",
    "iris.head()"
   ]
  },
  {
   "cell_type": "code",
   "execution_count": null,
   "id": "5cac7e9a-47a7-4438-a5dd-46fb85a97ad9",
   "metadata": {},
   "outputs": [],
   "source": [
    "print(pd.unique(iris[4]))\n",
    "\n",
    "# 요약 통계 확인하기\n",
    "print(iris[4].describe())"
   ]
  },
  {
   "cell_type": "code",
   "execution_count": null,
   "id": "606e2aaa-dfbe-4881-8e56-3dd41448bbfe",
   "metadata": {},
   "outputs": [],
   "source": [
    "# 열 이름을 '꽃 받침 길이', '꽃받침 너비', '꽃잎 길이', '꽃잎 너비', '꽃 종류'로 지정\n",
    "iris.columns =['sepal_length', 'sepal_width', 'petal_length', 'petal_width', 'class']\n",
    "\n",
    "# 변경된 열 이름 확인\n",
    "print(iris.head())\n",
    "print(iris.columns)"
   ]
  },
  {
   "cell_type": "code",
   "execution_count": null,
   "id": "11e9fcaa-60c2-4730-b825-7e091940ddb3",
   "metadata": {},
   "outputs": [],
   "source": [
    "# 'class' 열을 맨 앞으로 이동\n",
    "iris = iris.loc[:, ['class', *iris.columns[:-1]]]\n",
    "\n",
    "# 변경된 열 순서 확인\n",
    "print(iris.columns)"
   ]
  },
  {
   "cell_type": "code",
   "execution_count": null,
   "id": "de1d59fa-a19f-40e6-8352-0b4fa19d47d2",
   "metadata": {},
   "outputs": [],
   "source": [
    "# 'class' 열을 제거\n",
    "column = iris.pop('class')\n",
    "\n",
    "# 'class' 열을 맨 앞에 삽입\n",
    "iris.insert(0, 'class', column)\n",
    "\n",
    "# 변경된 열 순서 확인\n",
    "print(iris.columns)"
   ]
  },
  {
   "cell_type": "code",
   "execution_count": null,
   "id": "61d54cc9-c700-4ab6-b929-587919e03b07",
   "metadata": {},
   "outputs": [],
   "source": [
    "# 'iris.csv'라는 이름으로 csv 파일을 저장합니다.\n",
    "iris.to_csv(os.path.join(path, 'iris.csv'), index=False)"
   ]
  },
  {
   "cell_type": "code",
   "execution_count": null,
   "id": "c0980b97-5a76-4b18-a95a-19c301c38073",
   "metadata": {},
   "outputs": [],
   "source": [
    "iris = pd.read_csv(os.path.join(path, 'iris_data.csv'))\n",
    "print(iris[:])"
   ]
  }
 ],
 "metadata": {
  "kernelspec": {
   "display_name": "Python 3 (ipykernel)",
   "language": "python",
   "name": "python3"
  },
  "language_info": {
   "codemirror_mode": {
    "name": "ipython",
    "version": 3
   },
   "file_extension": ".py",
   "mimetype": "text/x-python",
   "name": "python",
   "nbconvert_exporter": "python",
   "pygments_lexer": "ipython3",
   "version": "3.11.5"
  }
 },
 "nbformat": 4,
 "nbformat_minor": 5
}
