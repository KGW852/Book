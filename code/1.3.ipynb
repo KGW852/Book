{
 "cells": [
  {
   "cell_type": "code",
   "execution_count": null,
   "metadata": {
    "colab": {
     "base_uri": "https://localhost:8080/"
    },
    "id": "cNAfIoHF5-LY",
    "outputId": "0cc32121-338b-4d51-f06e-bedea9e66cc8"
   },
   "outputs": [
    {
     "name": "stderr",
     "output_type": "stream",
     "text": [
      "No model was supplied, defaulted to distilbert/distilbert-base-uncased-finetuned-sst-2-english and revision af0f99b (https://huggingface.co/distilbert/distilbert-base-uncased-finetuned-sst-2-english).\n",
      "Using a pipeline without specifying a model name and revision in production is not recommended.\n"
     ]
    },
    {
     "name": "stdout",
     "output_type": "stream",
     "text": [
      "Review: The food was absolutely wonderful, from preparation to presentation, very pleasing.\n",
      "Sentiment: 긍정\n",
      "\n",
      "Review: The food was not good at all, I would never go back there.\n",
      "Sentiment: 부정\n",
      "\n",
      "Review: Excellent service and atmosphere. Loved the meal.\n",
      "Sentiment: 긍정\n",
      "\n",
      "Review: The service was terrible and the food was bland.\n",
      "Sentiment: 부정\n",
      "\n"
     ]
    }
   ],
   "source": [
    "from transformers import pipeline\n",
    "\n",
    "# 감정 분류기\n",
    "classifier = pipeline('sentiment-analysis')\n",
    "\n",
    "# 리뷰를 '긍정' 또는 '부정'으로 분류하는 함수\n",
    "def classify_review(review):\n",
    "    result = classifier(review)[0]\n",
    "    sentiment = result['label']\n",
    "    if sentiment == 'POSITIVE':\n",
    "        return '긍정'\n",
    "    else:\n",
    "        return '부정'\n",
    "\n",
    "# 리뷰글\n",
    "reviews = [\n",
    "    \"The food was absolutely wonderful, from preparation to presentation, very pleasing.\",\n",
    "    \"The food was not good at all, I would never go back there.\",\n",
    "    \"Excellent service and atmosphere. Loved the meal.\",\n",
    "    \"The service was terrible and the food was bland.\"\n",
    "]\n",
    "\n",
    "# 리뷰 분류\n",
    "for review in reviews:\n",
    "    print(f\"Review: {review}\\nSentiment: {classify_review(review)}\\n\")"
   ]
  },
  {
   "cell_type": "code",
   "execution_count": null,
   "metadata": {
    "id": "7y2bGO9wpJc1"
   },
   "outputs": [],
   "source": []
  }
 ],
 "metadata": {
  "colab": {
   "provenance": []
  },
  "kernelspec": {
   "display_name": "Python 3 (ipykernel)",
   "language": "python",
   "name": "python3"
  },
  "language_info": {
   "codemirror_mode": {
    "name": "ipython",
    "version": 3
   },
   "file_extension": ".py",
   "mimetype": "text/x-python",
   "name": "python",
   "nbconvert_exporter": "python",
   "pygments_lexer": "ipython3",
   "version": "3.11.5"
  }
 },
 "nbformat": 4,
 "nbformat_minor": 4
}
