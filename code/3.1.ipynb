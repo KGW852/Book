{
 "cells": [
  {
   "cell_type": "code",
   "execution_count": null,
   "id": "fc3d9890-48f1-4d88-b95c-2d172c3493c3",
   "metadata": {},
   "outputs": [],
   "source": [
    "!pip install PyPDF2\n",
    "\n",
    "from google.colab import files\n",
    "import PyPDF2\n",
    "\n",
    "# PDF 파일 업로드\n",
    "uploaded = files.upload()\n",
    "\n",
    "# PDF 파일 열기\n",
    "file_name = list(uploaded.keys())[0]\n",
    "pdf_file = open(file_name, 'rb')\n",
    "\n",
    "# PDF 리더 설정\n",
    "pdf_reader = PyPDF2.PdfReader(pdf_file)\n",
    "\n",
    "# 텍스트 추출\n",
    "num_pages = len(pdf_reader.pages)\n",
    "text = \"\"\n",
    "for page in range(num_pages):\n",
    "    text += pdf_reader.pages[page].extract_text()\n",
    "\n",
    "# 추출된 텍스트 출력\n",
    "print(text)"
   ]
  }
 ],
 "metadata": {
  "kernelspec": {
   "display_name": "Python 3 (ipykernel)",
   "language": "python",
   "name": "python3"
  },
  "language_info": {
   "codemirror_mode": {
    "name": "ipython",
    "version": 3
   },
   "file_extension": ".py",
   "mimetype": "text/x-python",
   "name": "python",
   "nbconvert_exporter": "python",
   "pygments_lexer": "ipython3",
   "version": "3.11.5"
  }
 },
 "nbformat": 4,
 "nbformat_minor": 5
}
