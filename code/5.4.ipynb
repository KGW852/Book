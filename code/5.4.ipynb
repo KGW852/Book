{
 "cells": [
  {
   "cell_type": "code",
   "execution_count": null,
   "id": "17211e74-a24f-4509-b2d9-8962611dc144",
   "metadata": {},
   "outputs": [],
   "source": [
    "import matplotlib.pyplot as plt\n",
    "import numpy as np"
   ]
  },
  {
   "cell_type": "code",
   "execution_count": null,
   "id": "6e242124",
   "metadata": {},
   "outputs": [],
   "source": [
    "# 물고기 데이터 입력\n",
    "fish_length = np.array([8.4, 13.7, 15.0, 16.2, 17.4, 18.0, 18.7, 19.0, 19.6, 20.0, 21.0,\n",
    "       21.0, 21.0, 21.3, 22.0, 22.0, 22.0, 22.0, 22.0, 22.5, 22.5, 22.7,\n",
    "       23.0, 23.5, 24.0, 24.0, 24.6, 25.0, 25.6, 26.5, 27.3, 27.5, 27.5,\n",
    "       27.5, 28.0, 28.7, 30.0, 32.8, 34.5, 35.0, 36.5, 36.0, 37.0, 37.0,\n",
    "       39.0, 39.0, 39.0, 40.0, 40.0, 40.0, 40.0, 42.0, 43.0, 43.0, 43.5,\n",
    "       44.0])\n",
    "fish_weight = np.array([5.9, 32.0, 40.0, 51.5, 70.0, 100.0, 78.0, 80.0, 85.0, 85.0, 110.0,\n",
    "       115.0, 125.0, 130.0, 120.0, 120.0, 130.0, 135.0, 110.0, 130.0,\n",
    "       150.0, 145.0, 150.0, 170.0, 225.0, 145.0, 188.0, 180.0, 197.0,\n",
    "       218.0, 300.0, 260.0, 265.0, 250.0, 250.0, 300.0, 320.0, 514.0,\n",
    "       556.0, 840.0, 685.0, 700.0, 700.0, 690.0, 900.0, 650.0, 820.0,\n",
    "       850.0, 900.0, 1015.0, 820.0, 1100.0, 1000.0, 1100.0, 1000.0,\n",
    "       1000.0])"
   ]
  },
  {
   "cell_type": "code",
   "execution_count": null,
   "id": "8aebedd8-32f8-4c7e-a427-f746d890baa0",
   "metadata": {},
   "outputs": [],
   "source": [
    "# 물고기 데이터의 x축 length, y축 weight로 산점도 그리기.\n",
    "plt.scatter(fish_length, fish_weight)\n",
    "plt.xlabel('length')\n",
    "plt.ylabel('weight')\n",
    "plt.title('fish')\n",
    "plt.show()"
   ]
  },
  {
   "cell_type": "code",
   "execution_count": null,
   "id": "acda546c",
   "metadata": {},
   "outputs": [],
   "source": [
    "from sklearn.model_selection import train_test_split\n",
    "\n",
    "# 훈련 세트와 테스트 세트로 나누기\n",
    "train_input, test_input, train_target, test_target = train_test_split(fish_length, fish_weight, random_state=42)\n",
    "\n",
    "# 훈련 세트와 테스트 세트를 2차원 배열로 변경\n",
    "train_input = train_input.reshape(-1, 1)\n",
    "test_input = test_input.reshape(-1, 1)"
   ]
  },
  {
   "cell_type": "code",
   "execution_count": null,
   "id": "cd0c6e7a-7540-4039-89e7-697011dd44a9",
   "metadata": {
    "scrolled": true
   },
   "outputs": [],
   "source": [
    "print(train_input)"
   ]
  },
  {
   "cell_type": "code",
   "execution_count": null,
   "id": "b34ef9c1-3c7f-4fe2-893e-ecc8cc893dc1",
   "metadata": {},
   "outputs": [],
   "source": [
    "print(train_input.shape)"
   ]
  },
  {
   "cell_type": "code",
   "execution_count": null,
   "id": "2e191a8c-1aa0-4449-95cc-f556d28e0fbf",
   "metadata": {},
   "outputs": [],
   "source": [
    "# 다항회귀를 위한 2차항 추가\n",
    "train_poly = np.column_stack((train_input ** 2, train_input))\n",
    "test_poly = np.column_stack((test_input ** 2, test_input))\n",
    "\n",
    "print(train_poly.shape, test_poly.shape)"
   ]
  },
  {
   "cell_type": "code",
   "execution_count": null,
   "id": "cf56d3d0-0b21-46d1-9067-493f90ff763b",
   "metadata": {},
   "outputs": [],
   "source": [
    "# 다항회귀 모델 학습\n",
    "from sklearn.linear_model import LinearRegression\n",
    "lr = LinearRegression()"
   ]
  },
  {
   "cell_type": "code",
   "execution_count": null,
   "id": "c546f409-d56d-4737-a3b7-ba7cb1125393",
   "metadata": {},
   "outputs": [],
   "source": [
    "lr.fit(train_poly, train_target)"
   ]
  },
  {
   "cell_type": "code",
   "execution_count": null,
   "id": "0289a093-a54a-4123-a884-b7e607e57e13",
   "metadata": {},
   "outputs": [],
   "source": [
    "print(lr.predict([[50**2, 50]]))"
   ]
  },
  {
   "cell_type": "code",
   "execution_count": null,
   "id": "ac61c3d5-55aa-4966-b2b9-26bcffc85484",
   "metadata": {},
   "outputs": [],
   "source": [
    "# 학습한 모델의 계수와 절편 확인\n",
    "print(lr.coef_, lr.intercept_)"
   ]
  },
  {
   "cell_type": "code",
   "execution_count": null,
   "id": "1cc1fab9-bd6b-488f-8503-b3f042a523f8",
   "metadata": {},
   "outputs": [],
   "source": [
    "# 다항회귀 학습 모델 그리기\n",
    "\n",
    "# 직선을 그리기 위한 x축 배열 만들기\n",
    "point = np.arange(15, 51)\n",
    "\n",
    "# 훈련세트의 산점도\n",
    "plt.scatter(train_input, train_target)\n",
    "\n",
    "# 학습한 2차방정식 그래프\n",
    "plt.plot(point, lr.coef_[0]*point**2 + lr.coef_[1]*point + lr.intercept_)\n",
    "\n",
    "# 50cm 농어 데이터\n",
    "plt.scatter(50, 1574, marker='^')\n",
    "plt.xlabel('length')\n",
    "plt.ylabel('weight')\n",
    "plt.show()"
   ]
  },
  {
   "cell_type": "code",
   "execution_count": null,
   "id": "d48f3ee3-dff5-45a7-8cbd-699f8bc48c3b",
   "metadata": {},
   "outputs": [],
   "source": [
    "# 모델 평가\n",
    "print(lr.score(train_poly, train_target))\n",
    "print(lr.score(test_poly, test_target))"
   ]
  },
  {
   "cell_type": "code",
   "execution_count": null,
   "id": "788370fa-0da0-4b6e-8588-b3c53e69e0d9",
   "metadata": {
    "scrolled": true
   },
   "outputs": [],
   "source": [
    "# 다중회귀\n",
    "# 물고기의 '길이', '높이', '넓이'데이터프레임 준비\n",
    "import pandas as pd\n",
    "\n",
    "df = pd.read_csv('https://raw.githubusercontent.com/KGW852/class/main/data/fish_perch.csv')\n",
    "fish = df.to_numpy()\n",
    "\n",
    "# 인풋 데이터 출력\n",
    "print(fish)"
   ]
  },
  {
   "cell_type": "code",
   "execution_count": null,
   "id": "e5634917-970d-434c-bdeb-68750ed68cec",
   "metadata": {},
   "outputs": [],
   "source": [
    "# 물고기의 '무게' 타깃 데이터 준비\n",
    "fish_weight = np.array([5.9, 32.0, 40.0, 51.5, 70.0, 100.0, 78.0, 80.0, 85.0, 85.0, 110.0,\n",
    "       115.0, 125.0, 130.0, 120.0, 120.0, 130.0, 135.0, 110.0, 130.0,\n",
    "       150.0, 145.0, 150.0, 170.0, 225.0, 145.0, 188.0, 180.0, 197.0,\n",
    "       218.0, 300.0, 260.0, 265.0, 250.0, 250.0, 300.0, 320.0, 514.0,\n",
    "       556.0, 840.0, 685.0, 700.0, 700.0, 690.0, 900.0, 650.0, 820.0,\n",
    "       850.0, 900.0, 1015.0, 820.0, 1100.0, 1000.0, 1100.0, 1000.0,\n",
    "       1000.0])"
   ]
  },
  {
   "cell_type": "code",
   "execution_count": null,
   "id": "3a03cde8-6b0c-41f2-8325-72202f5c8b7b",
   "metadata": {},
   "outputs": [],
   "source": [
    "# 훈련세트 & 테스트세트 분할\n",
    "from sklearn.model_selection import train_test_split\n",
    "\n",
    "train_input, test_input, train_target, test_target = train_test_split(\n",
    "    fish, fish_weight, random_state=42)"
   ]
  },
  {
   "cell_type": "code",
   "execution_count": null,
   "id": "19400b90-461d-4cdf-a4e1-e1be240fff55",
   "metadata": {},
   "outputs": [],
   "source": [
    "# 사이킷런 변환기 : 전처리\n",
    "from sklearn.preprocessing import PolynomialFeatures\n",
    "\n",
    "poly = PolynomialFeatures(include_bias=False)\n",
    "poly.fit(train_input)\n",
    "train_poly = poly.transform(train_input)\n",
    "\n",
    "print(train_poly.shape)"
   ]
  },
  {
   "cell_type": "code",
   "execution_count": null,
   "id": "61766273-0c9a-4804-99d2-92e69d99631a",
   "metadata": {},
   "outputs": [],
   "source": [
    "# 특성 클래스 확인\n",
    "poly.get_feature_names_out()"
   ]
  },
  {
   "cell_type": "code",
   "execution_count": null,
   "id": "df5f12b4-a128-4bc8-945b-04bfbffca269",
   "metadata": {},
   "outputs": [],
   "source": [
    "# 테스트세트 전처리\n",
    "test_poly = poly.transform(test_input)\n",
    "\n",
    "print(test_poly.shape)"
   ]
  },
  {
   "cell_type": "code",
   "execution_count": null,
   "id": "4600e862-a3e1-4a77-9c0e-141b6807280c",
   "metadata": {},
   "outputs": [],
   "source": [
    "# 다중회귀 모델 훈련\n",
    "from sklearn.linear_model import LinearRegression\n",
    "lr = LinearRegression()"
   ]
  },
  {
   "cell_type": "code",
   "execution_count": null,
   "id": "bf484766-ba08-4c33-8170-a9dede0fa858",
   "metadata": {},
   "outputs": [],
   "source": [
    "lr.fit(train_poly, train_target)"
   ]
  },
  {
   "cell_type": "code",
   "execution_count": null,
   "id": "44c1e7e5-2e23-4c06-997b-55ac416e1d89",
   "metadata": {},
   "outputs": [],
   "source": [
    "# 훈련세트 스코어\n",
    "print(lr.score(train_poly, train_target))"
   ]
  },
  {
   "cell_type": "code",
   "execution_count": null,
   "id": "9cd72af6-2bb2-48ce-a7a5-075cd2d29303",
   "metadata": {},
   "outputs": [],
   "source": [
    "# 테스트세트 스코어\n",
    "print(lr.score(test_poly, test_target))"
   ]
  },
  {
   "cell_type": "code",
   "execution_count": null,
   "id": "9befa5a7-64f7-4e29-a924-5d73d9256da2",
   "metadata": {},
   "outputs": [],
   "source": [
    "# case2. 모델을 복잡하게 할 경우\n",
    "poly = PolynomialFeatures(degree=5, include_bias=False)\n",
    "poly.fit(train_input)\n",
    "train_poly = poly.transform(train_input)\n",
    "test_poly = poly.transform(test_input)\n",
    "print(train_poly.shape)"
   ]
  },
  {
   "cell_type": "code",
   "execution_count": null,
   "id": "e7ccf289-ccdc-47b9-8a3b-649fb594a2b7",
   "metadata": {},
   "outputs": [],
   "source": [
    "lr.fit(train_poly, train_target)"
   ]
  },
  {
   "cell_type": "code",
   "execution_count": null,
   "id": "c5f43ce7-744b-43b3-b84e-c992d829946a",
   "metadata": {},
   "outputs": [],
   "source": [
    "print(lr.score(train_poly, train_target))"
   ]
  },
  {
   "cell_type": "code",
   "execution_count": null,
   "id": "61fa1995-6eda-4d3c-9b0f-f2e6a40d0167",
   "metadata": {},
   "outputs": [],
   "source": [
    "print(lr.score(test_poly, test_target))"
   ]
  },
  {
   "cell_type": "code",
   "execution_count": null,
   "id": "966c8f08-1c46-4bec-86c2-cd6d6d746c22",
   "metadata": {},
   "outputs": [],
   "source": [
    "# case3-1. 규제 릿지 이용\n",
    "\n",
    "# 정규화 전처리\n",
    "from sklearn.preprocessing import StandardScaler\n",
    "ss = StandardScaler()\n",
    "ss.fit(train_poly)\n",
    "train_scaled = ss.transform(train_poly)\n",
    "test_scaled = ss.transform(test_poly)"
   ]
  },
  {
   "cell_type": "code",
   "execution_count": null,
   "id": "b08f67f2-6b5d-41a9-a497-cbeb700f8897",
   "metadata": {},
   "outputs": [],
   "source": [
    "# 릿지회귀 모델 훈련\n",
    "from sklearn.linear_model import Ridge\n",
    "ridge = Ridge()"
   ]
  },
  {
   "cell_type": "code",
   "execution_count": null,
   "id": "03a531a3-7bf2-4979-8024-a0ce36c17019",
   "metadata": {},
   "outputs": [],
   "source": [
    "ridge.fit(train_scaled, train_target)"
   ]
  },
  {
   "cell_type": "code",
   "execution_count": null,
   "id": "226d3db4-8d6a-496a-8633-a5edf244dfb1",
   "metadata": {},
   "outputs": [],
   "source": [
    "print(ridge.score(train_scaled, train_target))"
   ]
  },
  {
   "cell_type": "code",
   "execution_count": null,
   "id": "fc88d2d9-c303-4d21-8c1f-1454462e2489",
   "metadata": {},
   "outputs": [],
   "source": [
    "print(ridge.score(test_scaled, test_target))"
   ]
  },
  {
   "cell_type": "code",
   "execution_count": null,
   "id": "d93b11db-1f10-40d2-9d70-80761423d1a4",
   "metadata": {},
   "outputs": [],
   "source": [
    "# 최적 규제강도(하이퍼파라미터) 설정\n",
    "\n",
    "# 알파값에 따른 스코어 생성\n",
    "import matplotlib.pyplot as plt\n",
    "\n",
    "train_score = []\n",
    "test_score = []"
   ]
  },
  {
   "cell_type": "code",
   "execution_count": null,
   "id": "6ecd065e-a36f-4951-a155-708b1494832f",
   "metadata": {},
   "outputs": [],
   "source": [
    "alpha_list = [0.001, 0.005, 0.01, 0.05, 0.1, 0.5, 1, 5, 10, 50, 100]\n",
    "for alpha in alpha_list:\n",
    "    #릿지 모델 생성.\n",
    "    ridge = Ridge(alpha=alpha)\n",
    "    \n",
    "    #릿지 모델 훈련\n",
    "    ridge.fit(train_scaled, train_target)\n",
    "    \n",
    "    #훈련 점수와 테스트 점수를 저장\n",
    "    train_score.append(ridge.score(train_scaled, train_target))\n",
    "    test_score.append(ridge.score(test_scaled, test_target))"
   ]
  },
  {
   "cell_type": "code",
   "execution_count": null,
   "id": "9f298cd2-a3d4-4320-a56b-77c911fca31f",
   "metadata": {},
   "outputs": [],
   "source": [
    "# 알파값별 결정계수 출력\n",
    "plt.plot(np.log10(alpha_list), train_score)\n",
    "plt.plot(np.log10(alpha_list), test_score)\n",
    "plt.title('Ridge score')\n",
    "plt.xlabel('alpha')\n",
    "plt.ylabel('R^2')\n",
    "plt.grid()\n",
    "plt.show()"
   ]
  },
  {
   "cell_type": "code",
   "execution_count": null,
   "id": "7162d341-10ec-48ee-acd9-16d3fdcaf527",
   "metadata": {},
   "outputs": [],
   "source": [
    "# 최적 알파값 적용 최종 모델 생성\n",
    "ridge = Ridge(alpha=0.05)\n",
    "ridge.fit(train_scaled, train_target)\n",
    "print(ridge.score(train_scaled, train_target))\n",
    "print(ridge.score(test_scaled, test_target))"
   ]
  },
  {
   "cell_type": "code",
   "execution_count": null,
   "id": "bb6e7bef-1e37-4e7d-9059-aed0af2e20da",
   "metadata": {},
   "outputs": [],
   "source": [
    "# case3-2. 규제 라쏘 이용\n",
    "\n",
    "# 라쏘회귀 모델 훈련\n",
    "from sklearn.linear_model import Lasso\n",
    "lasso = Lasso()"
   ]
  },
  {
   "cell_type": "code",
   "execution_count": null,
   "id": "9cebc06f-913a-4c2e-b5a7-646c1e8536b8",
   "metadata": {},
   "outputs": [],
   "source": [
    "lasso.fit(train_scaled, train_target)"
   ]
  },
  {
   "cell_type": "code",
   "execution_count": null,
   "id": "00a3fef6-e114-4a20-b957-e56dbf2c337e",
   "metadata": {},
   "outputs": [],
   "source": [
    "print(lasso.score(train_scaled, train_target))"
   ]
  },
  {
   "cell_type": "code",
   "execution_count": null,
   "id": "d268e2eb-7efa-4565-81a2-3a6bf4e409ca",
   "metadata": {},
   "outputs": [],
   "source": [
    "print(lasso.score(test_scaled, test_target))"
   ]
  },
  {
   "cell_type": "code",
   "execution_count": null,
   "id": "f388db00-c33b-4123-a722-401327f27619",
   "metadata": {},
   "outputs": [],
   "source": [
    "# 최적 규제강도(하이퍼파라미터) 설정\n",
    "\n",
    "# 알파값에 따른 스코어 생성\n",
    "train_score = []\n",
    "test_score = []\n",
    "alpha_list = [0.001, 0.005, 0.01, 0.05, 0.1, 0.5, 1, 5, 10, 50, 100]\n",
    "for alpha in alpha_list:\n",
    "    #릿지 모델 생성.\n",
    "    lasso = Lasso(alpha=alpha, max_iter=100000)\n",
    "    \n",
    "    #릿지 모델 훈련\n",
    "    lasso.fit(train_scaled, train_target)\n",
    "    \n",
    "    #훈련 점수와 테스트 점수를 저장\n",
    "    train_score.append(lasso.score(train_scaled, train_target))\n",
    "    test_score.append(lasso.score(test_scaled, test_target))"
   ]
  },
  {
   "cell_type": "code",
   "execution_count": null,
   "id": "6831dd02-5b47-4626-9952-0be570f78535",
   "metadata": {},
   "outputs": [],
   "source": [
    "# 알파값별 결정계수 출력\n",
    "plt.plot(np.log10(alpha_list), train_score)\n",
    "plt.plot(np.log10(alpha_list), test_score)\n",
    "plt.title('Lasso score')\n",
    "plt.xlabel('alpha')\n",
    "plt.ylabel('R^2')\n",
    "plt.grid()\n",
    "plt.show()"
   ]
  },
  {
   "cell_type": "code",
   "execution_count": null,
   "id": "273c750d-fd20-43c3-854e-cc7445c402b3",
   "metadata": {},
   "outputs": [],
   "source": [
    "# 최적 알파값 적용 최종 모델 생성\n",
    "lasso = Lasso(alpha=10)\n",
    "\n",
    "lasso.fit(train_scaled, train_target)\n",
    "print(lasso.score(train_scaled, train_target))\n",
    "print(lasso.score(test_scaled, test_target))"
   ]
  },
  {
   "cell_type": "code",
   "execution_count": null,
   "id": "b4d52de7-587a-45b1-91ba-7efe803f7e7a",
   "metadata": {},
   "outputs": [],
   "source": [
    "print(poly.get_feature_names_out())\n",
    "print(lasso.coef_)"
   ]
  },
  {
   "cell_type": "code",
   "execution_count": null,
   "id": "1e964bd8-fcb1-42ca-be64-51a6baf2d1d9",
   "metadata": {},
   "outputs": [],
   "source": [
    "print(np.sum(lasso.coef_==0))"
   ]
  }
 ],
 "metadata": {
  "kernelspec": {
   "display_name": "Python 3 (ipykernel)",
   "language": "python",
   "name": "python3"
  },
  "language_info": {
   "codemirror_mode": {
    "name": "ipython",
    "version": 3
   },
   "file_extension": ".py",
   "mimetype": "text/x-python",
   "name": "python",
   "nbconvert_exporter": "python",
   "pygments_lexer": "ipython3",
   "version": "3.11.5"
  },
  "widgets": {
   "application/vnd.jupyter.widget-state+json": {
    "state": {},
    "version_major": 2,
    "version_minor": 0
   }
  }
 },
 "nbformat": 4,
 "nbformat_minor": 5
}
