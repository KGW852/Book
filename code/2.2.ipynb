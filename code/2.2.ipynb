{
 "cells": [
  {
   "cell_type": "code",
   "execution_count": null,
   "id": "c585202e-0a19-44db-a57d-2b1b50342032",
   "metadata": {},
   "outputs": [],
   "source": [
    "class Car:\n",
    "    def __init__(self, brand):\n",
    "        self.brand = brand\n",
    "\n",
    "    def drive(self):\n",
    "        print(\"Driving the\", self.brand)\n",
    "\n",
    "my_car = Car(\"Hyundae\")\n",
    "my_car.drive()  # 출력: \"Driving the Hyundae\""
   ]
  },
  {
   "cell_type": "code",
   "execution_count": null,
   "id": "15a12b68-4ded-4cf8-b96a-324b259af73e",
   "metadata": {},
   "outputs": [],
   "source": [
    "class Person:\n",
    "    def __init__(self, name, age, address):\n",
    "        self.name = name\n",
    "        self.age = age\n",
    "        self.address = address\n",
    "\n",
    "# 인스턴스 생성\n",
    "kim2kie = Person('김두기', 40, '공주대학교 스마트인프라공학관')\n",
    "\n",
    "# 속성 값 출력\n",
    "print('이름:', kim2kie.name)\n",
    "print('나이:', kim2kie.age)\n",
    "print('주소:', kim2kie.address)"
   ]
  },
  {
   "cell_type": "code",
   "execution_count": null,
   "id": "102f81bc-009b-47f7-804c-39b991da41cd",
   "metadata": {},
   "outputs": [],
   "source": [
    "dict = {\"key\": 10}\n",
    "\n",
    "# 괄호 표기법\n",
    "print(dict[\"key\"])"
   ]
  },
  {
   "cell_type": "code",
   "execution_count": null,
   "id": "948ad5ac-6164-46f5-a907-318b091e1864",
   "metadata": {},
   "outputs": [],
   "source": [
    "# 점 표기법\n",
    "print(dict.key)"
   ]
  },
  {
   "cell_type": "code",
   "execution_count": null,
   "id": "ae27f03b-cbe1-44c7-a6b8-ba7ded06d71e",
   "metadata": {},
   "outputs": [],
   "source": [
    "# 경로설정 및 os접속\n",
    "import os\n",
    "\n",
    "path = r'압축을/푼/폴더/경로'\n",
    "dir = os.listdir(path)\n",
    "\n",
    "# 변경할 파일명 디폴트값\n",
    "base_name1 = 'dog'\n",
    "base_name2 = '_picture'\n",
    "extension = '.jpg'\n",
    "\n",
    "# .jpg일경우 파일명을 변경:{base_name1}{base_name2}{번호}{extension}\n",
    "i =0\n",
    "for file_name in dir:\n",
    "    if file_name.endswith(extension):\n",
    "\n",
    "        #새로운 파일명\n",
    "        new_name=f'{base_name1}{base_name2}{i:04d}{extension}'\n",
    "\n",
    "        #이전 파일명과 새로운 파일명 출력\n",
    "        print(f'파일명을{file_name}에서{new_name}로변경합니다.')\n",
    "\n",
    "        #파일명변경\n",
    "        os.rename(os.path.join(path,file_name),os.path.join(path,new_name))\n",
    "\n",
    "        # 파일 순번 추가\n",
    "        i += 1\n",
    "        \n",
    "print(f'{i}번 까지의 파일명을 변경.')"
   ]
  }
 ],
 "metadata": {
  "kernelspec": {
   "display_name": "Python 3 (ipykernel)",
   "language": "python",
   "name": "python3"
  },
  "language_info": {
   "codemirror_mode": {
    "name": "ipython",
    "version": 3
   },
   "file_extension": ".py",
   "mimetype": "text/x-python",
   "name": "python",
   "nbconvert_exporter": "python",
   "pygments_lexer": "ipython3",
   "version": "3.11.5"
  }
 },
 "nbformat": 4,
 "nbformat_minor": 5
}
