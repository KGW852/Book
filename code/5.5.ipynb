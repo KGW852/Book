{
 "cells": [
  {
   "cell_type": "code",
   "execution_count": null,
   "id": "0b59859b-b320-45f0-9488-a340fe18c605",
   "metadata": {},
   "outputs": [],
   "source": [
    "# Iris data 불러오기\n",
    "import pandas as pd\n",
    "\n",
    "iris = pd.read_csv('https://raw.githubusercontent.com/KGW852/class/main/data/iris_data.csv')\n",
    "iris.head()"
   ]
  },
  {
   "cell_type": "code",
   "execution_count": null,
   "id": "03621079-03c4-4921-9e4b-4189fe2ca10c",
   "metadata": {},
   "outputs": [],
   "source": [
    "# 클래스열에 무엇이 있는지 확인해보기\n",
    "print(pd.unique(iris['class']))"
   ]
  },
  {
   "cell_type": "code",
   "execution_count": null,
   "id": "e3d20978-721a-4004-8d09-285716f8c146",
   "metadata": {},
   "outputs": [],
   "source": [
    "# 인풋과 아웃풋 데이터 만들기\n",
    "iris_input = iris[['sepal_length', 'sepal_width', 'petal_length', 'petal_width']].to_numpy()\n",
    "iris_target = iris['class'].to_numpy()\n",
    "\n",
    "print(iris_input[:5])"
   ]
  },
  {
   "cell_type": "code",
   "execution_count": null,
   "id": "cd3ee57f-6327-40e7-8536-948ce5512da5",
   "metadata": {},
   "outputs": [],
   "source": [
    "# 훈련세트와 테스트세트로 분리하기\n",
    "from sklearn.model_selection import train_test_split\n",
    "\n",
    "train_input, test_input, train_target, test_target = train_test_split(iris_input, iris_target, random_state=42)\n",
    "\n",
    "print(train_input.shape, test_input.shape)"
   ]
  },
  {
   "cell_type": "code",
   "execution_count": null,
   "id": "10a0223b-b6d8-48f1-9635-c8d9f56cd6de",
   "metadata": {},
   "outputs": [],
   "source": [
    "# 데이터 정규화\n",
    "from sklearn.preprocessing import StandardScaler\n",
    "\n",
    "ss = StandardScaler()\n",
    "ss.fit(train_input)\n",
    "train_scaled = ss.transform(train_input)\n",
    "test_scaled = ss.transform(test_input)"
   ]
  },
  {
   "cell_type": "code",
   "execution_count": null,
   "id": "4f8da22e-c89c-4c3c-bb04-c04dc593f4f3",
   "metadata": {},
   "outputs": [],
   "source": [
    "# 활성함수 : 시그모이드 함수(Sigmoid function)\n",
    "import numpy as np\n",
    "import matplotlib.pyplot as plt\n",
    "\n",
    "z = np.arange(-5, 5, 0.1)\n",
    "phi = 1 / (1 + np.exp(-z))\n",
    "\n",
    "plt.plot(z, phi)\n",
    "plt.title('Sigmoid function')\n",
    "plt.xlabel('z')\n",
    "plt.ylabel('phi')\n",
    "plt.grid()\n",
    "plt.show()"
   ]
  },
  {
   "cell_type": "code",
   "execution_count": null,
   "id": "3c1e5385-c8aa-4d2f-bb8a-8cb7ab4fac41",
   "metadata": {},
   "outputs": [],
   "source": [
    "# 1. 이진분류\n",
    "\n",
    "# boolean indexing\n",
    "# 비트연산자(|)를 이용한 원하는행(가로)만 골라내기\n",
    "setosa_versi_indexes = (train_target == 'Iris-setosa') | (train_target == 'Iris-versicolor')\n",
    "\n",
    "train_setosa_versi = train_scaled[setosa_versi_indexes]\n",
    "target_setosa_versi = train_target[setosa_versi_indexes]\n",
    "\n",
    "print(train_setosa_versi.shape, target_setosa_versi.shape)"
   ]
  },
  {
   "cell_type": "code",
   "execution_count": null,
   "id": "7d53b6c9-4897-4961-8131-bc98db208d91",
   "metadata": {},
   "outputs": [],
   "source": [
    "# 로지스틱 회귀\n",
    "from sklearn.linear_model import LogisticRegression\n",
    "lr = LogisticRegression()"
   ]
  },
  {
   "cell_type": "code",
   "execution_count": null,
   "id": "f8a2bea5-8144-4708-b825-60a01f0645dd",
   "metadata": {},
   "outputs": [],
   "source": [
    "# 학습\n",
    "lr.fit(train_setosa_versi, target_setosa_versi)"
   ]
  },
  {
   "cell_type": "code",
   "execution_count": null,
   "id": "72eff26f-b1d7-4cc3-a616-ddb2b004e349",
   "metadata": {},
   "outputs": [],
   "source": [
    "# 처음 5개 샘플 예측확인\n",
    "print(lr.predict(train_setosa_versi[:5]))"
   ]
  },
  {
   "cell_type": "code",
   "execution_count": null,
   "id": "46866d6e-da7f-4544-bef2-b692fdfcd066",
   "metadata": {},
   "outputs": [],
   "source": [
    "# 5개 샘플에 대한 예측확률 출력\n",
    "print(lr.predict_proba(train_setosa_versi[:5]))"
   ]
  },
  {
   "cell_type": "code",
   "execution_count": null,
   "id": "723cc8cc-10b8-4850-b69c-5237419fc93b",
   "metadata": {},
   "outputs": [],
   "source": [
    "# 클래스열 순서 확인\n",
    "print(lr.classes_)"
   ]
  },
  {
   "cell_type": "code",
   "execution_count": null,
   "id": "f5a4d24c-a321-49a3-a2a9-584115a4d689",
   "metadata": {},
   "outputs": [],
   "source": [
    "# 학습한 계수 확인\n",
    "print(lr.coef_, lr.intercept_)"
   ]
  },
  {
   "cell_type": "code",
   "execution_count": null,
   "id": "07cbfa61-b9e5-49a0-ad0b-bdbeead7c995",
   "metadata": {},
   "outputs": [],
   "source": [
    "# 회귀방정식 z 값 확인\n",
    "decisions = lr.decision_function(train_setosa_versi[:5])\n",
    "\n",
    "print(decisions)"
   ]
  },
  {
   "cell_type": "code",
   "execution_count": null,
   "id": "5976154b-cf7e-46e4-8bf8-80d9b191c983",
   "metadata": {},
   "outputs": [],
   "source": [
    "# z값을 시그모이드함수에 넣어 phi값 구헤보기\n",
    "from scipy.special import expit\n",
    "\n",
    "print(expit(decisions))"
   ]
  },
  {
   "cell_type": "code",
   "execution_count": null,
   "id": "4cb079a3-d199-4883-84b1-f8c667389952",
   "metadata": {},
   "outputs": [],
   "source": [
    "# 다중 분류\n",
    "\n",
    "# 'setosa', 'versicolor', 'virginica' 3종의 클래스 분류 모델 만들기\n",
    "# 하이퍼파라미터(L2규제 : C)\n",
    "\n",
    "mlr = LogisticRegression(C=10, max_iter=1000)"
   ]
  },
  {
   "cell_type": "code",
   "execution_count": null,
   "id": "f11dcf31-465a-4f2a-a3ed-db0368804668",
   "metadata": {},
   "outputs": [],
   "source": [
    "# 모델 훈련\n",
    "mlr.fit(train_scaled, train_target)"
   ]
  },
  {
   "cell_type": "code",
   "execution_count": null,
   "id": "f8248b6a-3918-41f5-9d43-90a858787c5e",
   "metadata": {},
   "outputs": [],
   "source": [
    "# 분류의 정확도 출력\n",
    "print(mlr.score(train_scaled, train_target))\n",
    "print(mlr.score(test_scaled, test_target))"
   ]
  },
  {
   "cell_type": "code",
   "execution_count": null,
   "id": "aabad116-a74c-4d05-979b-793036cbdd16",
   "metadata": {},
   "outputs": [],
   "source": [
    "# 처음 5개 샘플에 대한 예측확률 출력\n",
    "print(mlr.predict(test_scaled[:5]))"
   ]
  },
  {
   "cell_type": "code",
   "execution_count": null,
   "id": "19055be0-91ca-4484-9d2f-49746ae3165d",
   "metadata": {},
   "outputs": [],
   "source": [
    "# 5개 샘플에 대한 예측확률 출력\n",
    "proba = mlr.predict_proba(test_scaled[:5])\n",
    "print(np.round(proba, decimals=3))"
   ]
  },
  {
   "cell_type": "code",
   "execution_count": null,
   "id": "cfb52172-4770-4367-b171-a9cde468949a",
   "metadata": {},
   "outputs": [],
   "source": [
    "# 클래스열 순서 확인\n",
    "print(mlr.classes_)"
   ]
  },
  {
   "cell_type": "code",
   "execution_count": null,
   "id": "20ec8fa4-de6c-4b0a-8f23-b2690ac16037",
   "metadata": {},
   "outputs": [],
   "source": [
    "# 학습한 계수 확인\n",
    "print(mlr.coef_.shape, mlr.intercept_.shape)"
   ]
  },
  {
   "cell_type": "code",
   "execution_count": null,
   "id": "02fcfa0d-f414-4de4-980d-5338eb429faa",
   "metadata": {},
   "outputs": [],
   "source": [
    "# 회귀방정식 z 값 확인\n",
    "decisions = mlr.decision_function(test_scaled[:5])\n",
    "\n",
    "print(np.round(decisions, decimals=2))"
   ]
  },
  {
   "cell_type": "code",
   "execution_count": null,
   "id": "5100efb9-fa37-4ee8-a887-b52a86bfd47b",
   "metadata": {},
   "outputs": [],
   "source": [
    "# z값을 소프트맥스함수에 넣어 e_sum값 구하기\n",
    "from scipy.special import softmax\n",
    "\n",
    "proba = softmax(decisions, axis=1)\n",
    "\n",
    "print(np.round(proba, decimals=3))"
   ]
  },
  {
   "cell_type": "code",
   "execution_count": null,
   "id": "e0d0b74b-f242-41c4-974c-a28d5aa56046",
   "metadata": {},
   "outputs": [],
   "source": [
    "# 결정경계 시각화\n",
    "setosa_petal_length = iris.loc[iris['class'] == 'Iris-setosa', 'petal_length'].to_numpy()\n",
    "setosa_petal_width = iris.loc[iris['class'] == 'Iris-setosa', 'petal_width'].to_numpy()\n",
    "versicolor_petal_length = iris.loc[iris['class'] == 'Iris-versicolor', 'petal_length'].to_numpy()\n",
    "versicolor_petal_width = iris.loc[iris['class'] == 'Iris-versicolor', 'petal_width'].to_numpy()\n",
    "virginica_petal_length = iris.loc[iris['class'] == 'Iris-virginica', 'petal_length'].to_numpy()\n",
    "virginica_petal_width = iris.loc[iris['class'] == 'Iris-virginica', 'petal_width'].to_numpy()\n",
    "\n",
    "plt.scatter(setosa_petal_length, setosa_petal_width, marker='^', label='Iris-setosa')\n",
    "plt.scatter(versicolor_petal_length, versicolor_petal_width, marker='o', label='Iris-versicolor')\n",
    "plt.scatter(virginica_petal_length, virginica_petal_width, marker='*', label='Iris-virginica')\n",
    "\n",
    "plt.xlabel('petal_length')\n",
    "plt.ylabel('petal_width')\n",
    "plt.title('Iris Petal Scatter Plot')\n",
    "plt.legend()\n",
    "plt.show()"
   ]
  },
  {
   "cell_type": "code",
   "execution_count": null,
   "id": "7a3fcaae-c740-4ce2-b73b-d9c8607d725c",
   "metadata": {},
   "outputs": [],
   "source": [
    "# 인풋과 아웃풋 데이터 만들기\n",
    "petal_input = iris[['petal_length', 'petal_width']].to_numpy()\n",
    "petal_target = iris['class'].to_numpy()\n",
    "\n",
    "# 훈련세트와 테스트세트로 분리하기\n",
    "train_input, test_input, train_target, test_target = train_test_split(petal_input, petal_target, random_state=42)\n",
    "\n",
    "print(train_input.shape, test_input.shape)\n",
    "\n",
    "# 데이터 정규화\n",
    "ss = StandardScaler()\n",
    "ss.fit(train_input)\n",
    "train_scaled = ss.transform(train_input)\n",
    "test_scaled = ss.transform(test_input)\n",
    "\n",
    "\n",
    "# 타깃 정수형 변환\n",
    "from sklearn.preprocessing import LabelEncoder\n",
    "le = LabelEncoder()\n",
    "le.fit(train_target)\n",
    "train_target_encoded = le.transform(train_target)"
   ]
  },
  {
   "cell_type": "code",
   "execution_count": null,
   "id": "ab27538d-ad0d-4282-98a6-9c8a625c37e7",
   "metadata": {},
   "outputs": [],
   "source": [
    "# 모델 학습\n",
    "lr2 = LogisticRegression(multi_class='multinomial', solver='lbfgs', max_iter=1000)"
   ]
  },
  {
   "cell_type": "code",
   "execution_count": null,
   "id": "9964e900-6774-4b21-95ba-985f6ac734e0",
   "metadata": {},
   "outputs": [],
   "source": [
    "lr2.fit(train_scaled, train_target_encoded)"
   ]
  },
  {
   "cell_type": "code",
   "execution_count": null,
   "id": "2c3956c4-d0e8-431f-be47-942bf7c26e14",
   "metadata": {},
   "outputs": [],
   "source": [
    "# 결정 경계 시각화\n",
    "from mlxtend.plotting import plot_decision_regions\n",
    "\n",
    "plt.figure(figsize=(8, 6))\n",
    "plot_decision_regions(train_scaled, train_target_encoded, clf=lr2, legend=2)\n",
    "plt.xlabel('Petal Length')\n",
    "plt.ylabel('Petal Width')\n",
    "plt.title('Decision Boundary')\n",
    "\n",
    "path = r'C:\\decision boundary.png'\n",
    "plt.savefig(path, dpi=300)"
   ]
  },
  {
   "cell_type": "code",
   "execution_count": null,
   "id": "7db0f99d-0d14-4ab9-a46d-a19c8a8a7566",
   "metadata": {},
   "outputs": [],
   "source": [
    "from mpl_toolkits.mplot3d import Axes3D"
   ]
  },
  {
   "cell_type": "code",
   "execution_count": null,
   "id": "71dc4054-8288-4e66-a0cb-06700270989c",
   "metadata": {},
   "outputs": [],
   "source": [
    "x1_min, x1_max = petal_input[:, 0].min() - 1, petal_input[:, 0].max() + 1\n",
    "x2_min, x2_max = petal_input[:, 1].min() - 1, petal_input[:, 1].max() + 1\n",
    "xx1, xx2 = np.meshgrid(np.arange(x1_min, x1_max, 0.1), np.arange(x2_min, x2_max, 0.1))\n",
    "\n",
    "# 각 클래스에 대한 z 값 계산\n",
    "Z_values = lr2.coef_ @ np.c_[xx1.ravel(), xx2.ravel()].T + lr2.intercept_[:, np.newaxis]\n",
    "\n",
    "# 3차원 시각화\n",
    "fig = plt.figure(figsize=(12, 8))\n",
    "ax = fig.add_subplot(111, projection='3d')\n",
    "\n",
    "# 각 클래스에 대한 z 값 표시\n",
    "for i, class_name in enumerate(le.classes_):\n",
    "    ax.plot_surface(xx1, xx2, Z_values[i].reshape(xx1.shape), alpha=0.5, label=class_name)\n",
    "\n",
    "# 데이터 포인트 표시\n",
    "for i, class_name in enumerate(le.classes_):\n",
    "    idx = (test_target == class_name)\n",
    "    ax.scatter(test_input[idx, 0], test_input[idx, 1], lr2.decision_function(test_scaled)[idx, i], marker='o', label=class_name)\n",
    "\n",
    "ax.set_xlabel('Petal Length')\n",
    "ax.set_ylabel('Petal Width')\n",
    "ax.set_zlabel('Z Value')\n",
    "ax.set_title('Decision Boundaries')\n",
    "ax.legend()\n",
    "\n",
    "path = r'C:\\3D decision boundary.png'\n",
    "plt.savefig(path)"
   ]
  }
 ],
 "metadata": {
  "kernelspec": {
   "display_name": "Python 3 (ipykernel)",
   "language": "python",
   "name": "python3"
  },
  "language_info": {
   "codemirror_mode": {
    "name": "ipython",
    "version": 3
   },
   "file_extension": ".py",
   "mimetype": "text/x-python",
   "name": "python",
   "nbconvert_exporter": "python",
   "pygments_lexer": "ipython3",
   "version": "3.11.5"
  },
  "widgets": {
   "application/vnd.jupyter.widget-state+json": {
    "state": {},
    "version_major": 2,
    "version_minor": 0
   }
  }
 },
 "nbformat": 4,
 "nbformat_minor": 5
}
