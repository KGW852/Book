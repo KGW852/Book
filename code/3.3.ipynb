{
 "cells": [
  {
   "cell_type": "code",
   "execution_count": null,
   "id": "514aea06-443c-4947-86b0-a1f2160d65da",
   "metadata": {},
   "outputs": [],
   "source": [
    "import matplotlib.pyplot as plt\n",
    "\n",
    "path = r'C:\\iris data'\n",
    "\n",
    "# 산점도\n",
    "plt.scatter([1,2,3,4], [1,2,3,4])\n",
    "plt.show()"
   ]
  },
  {
   "cell_type": "code",
   "execution_count": null,
   "id": "12675f45-9240-4d74-bb71-e4e68bf913b5",
   "metadata": {},
   "outputs": [],
   "source": [
    "# 히스토그램\n",
    "plt.hist([0,3,5,6,7,7,9,13], bins=5)\n",
    "plt.show()"
   ]
  },
  {
   "cell_type": "code",
   "execution_count": null,
   "id": "61487181-1306-466a-a4af-90d09f7cab67",
   "metadata": {},
   "outputs": [],
   "source": [
    "# 선그래프\n",
    "plt.plot([1,2,3,4],[1,2,3,4])\n",
    "\n",
    "plt.show()"
   ]
  },
  {
   "cell_type": "code",
   "execution_count": null,
   "id": "c0e410af-183f-40ec-9578-0e5251c316fc",
   "metadata": {},
   "outputs": [],
   "source": [
    "import matplotlib.pyplot as plt\n",
    "import pandas as pd\n",
    "import numpy as np\n",
    "import os\n",
    "\n",
    "# iris 데이터를 판다스로 불러오기\n",
    "iris = pd.read_csv(os.path.join(path, 'iris_data.csv'))\n",
    "\n",
    "iris.head()"
   ]
  },
  {
   "cell_type": "code",
   "execution_count": null,
   "id": "c156e6d8-8d1e-466a-bfa1-09b833b22cf4",
   "metadata": {},
   "outputs": [],
   "source": [
    "# 1~20행, 100행~120행 데이터 출력\n",
    "print(iris[:20])\n",
    "print(iris[100:120])"
   ]
  },
  {
   "cell_type": "code",
   "execution_count": null,
   "id": "b50c029b-7175-4a1f-933b-be1441aa7cbc",
   "metadata": {},
   "outputs": [],
   "source": [
    "# 'virginica'개체의 1~20행 petal_length 값을 추출합니다.\n",
    "virginica_petal_length = iris.loc[iris['class'] == 'Iris-virginica', 'petal_length'].iloc[:20]\n",
    "\n",
    "print(virginica_petal_length)"
   ]
  },
  {
   "cell_type": "code",
   "execution_count": null,
   "id": "c4c65b5a-6be8-46d7-827e-42dc964be0e0",
   "metadata": {},
   "outputs": [],
   "source": [
    "# 'setosa', 'virginica'클래스의 1~20행 'petal' 값을 추출합니다.\n",
    "setosa_petal_length = iris.loc[iris['class'] == 'Iris-setosa', 'petal_length'].iloc[:20].to_numpy()\n",
    "setosa_petal_width = iris.loc[iris['class'] == 'Iris-setosa', 'petal_width'].iloc[:20].to_numpy()\n",
    "virginica_petal_length = iris.loc[iris['class'] == 'Iris-virginica', 'petal_length'].iloc[:20].to_numpy()\n",
    "virginica_petal_width = iris.loc[iris['class'] == 'Iris-virginica', 'petal_width'].iloc[:20].to_numpy()\n",
    "\n",
    "# 추출된 값 확인\n",
    "print(setosa_petal_length)\n",
    "print(setosa_petal_width)\n",
    "print(virginica_petal_length)\n",
    "print(virginica_petal_width)"
   ]
  },
  {
   "cell_type": "code",
   "execution_count": null,
   "id": "9e4b0d93-dac0-49ca-9cd1-53ff8f9c38b4",
   "metadata": {},
   "outputs": [],
   "source": [
    "# 'setosa', 'virginica'의 x축 length, y축 width로 산점도 그리기.\n",
    "plt.scatter(setosa_petal_length, setosa_petal_width)\n",
    "plt.scatter(virginica_petal_length, virginica_petal_width)\n",
    "\n",
    "plt.xlabel('length')\n",
    "plt.ylabel('width')\n",
    "plt.title('setosa virginica scatter')\n",
    "\n",
    "plt.show()"
   ]
  }
 ],
 "metadata": {
  "kernelspec": {
   "display_name": "Python 3 (ipykernel)",
   "language": "python",
   "name": "python3"
  },
  "language_info": {
   "codemirror_mode": {
    "name": "ipython",
    "version": 3
   },
   "file_extension": ".py",
   "mimetype": "text/x-python",
   "name": "python",
   "nbconvert_exporter": "python",
   "pygments_lexer": "ipython3",
   "version": "3.11.5"
  }
 },
 "nbformat": 4,
 "nbformat_minor": 5
}
