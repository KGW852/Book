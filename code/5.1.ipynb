{
 "cells": [
  {
   "cell_type": "code",
   "execution_count": null,
   "id": "56ed8ed0-2688-42d3-95cf-2ceccabe51fa",
   "metadata": {},
   "outputs": [],
   "source": [
    "import matplotlib.pyplot as plt\n",
    "import pandas as pd\n",
    "import numpy as np\n",
    "import os\n",
    "\n",
    "path = r'C:\\Users\\kgw85\\OneDrive\\수업자료(학부)\\코딩과응용\\Python\\iris data'"
   ]
  },
  {
   "cell_type": "code",
   "execution_count": null,
   "id": "bb602708-e461-4ba0-bef6-c3e117b2886e",
   "metadata": {},
   "outputs": [],
   "source": [
    "# iris 데이터를 판다스로 불러옵니다.\n",
    "iris = pd.read_csv(os.path.join(path, 'iris_data.csv'))\n",
    "\n",
    "iris.head()"
   ]
  },
  {
   "cell_type": "code",
   "execution_count": null,
   "id": "cb3b978c-b964-4c84-a100-82ee5a8f90f5",
   "metadata": {},
   "outputs": [],
   "source": [
    "# 'setosa', 'versicolor'클래스의 1~20행 'petal' 값을 추출합니다.\n",
    "setosa_length = iris.loc[iris['class'] == 'Iris-setosa', 'petal_length'].iloc[:50].to_list()\n",
    "setosa_width = iris.loc[iris['class'] == 'Iris-setosa', 'petal_width'].iloc[:50].to_list()\n",
    "versicolor_length = iris.loc[iris['class'] == 'Iris-versicolor', 'petal_length'].iloc[:50].to_list()\n",
    "versicolor_width = iris.loc[iris['class'] == 'Iris-versicolor', 'petal_width'].iloc[:50].to_list()\n",
    "\n",
    "# 추출된 값 확인\n",
    "print(setosa_length)\n",
    "print(setosa_width)\n",
    "print(versicolor_length)\n",
    "print(versicolor_width)"
   ]
  },
  {
   "cell_type": "code",
   "execution_count": null,
   "id": "0b610891-0a62-49db-8e6f-89784a39c31b",
   "metadata": {},
   "outputs": [],
   "source": [
    "# 'setosa', 'versicolor'의 x축 length, y축 width로 산점도 그리기.\n",
    "plt.scatter(setosa_length, setosa_width)\n",
    "plt.scatter(versicolor_length, versicolor_width)\n",
    "\n",
    "plt.xlabel('length')\n",
    "plt.ylabel('width')\n",
    "plt.title('setosa versicolor scatter')\n",
    "\n",
    "plt.show()"
   ]
  },
  {
   "cell_type": "code",
   "execution_count": null,
   "id": "376ab2b7-08a0-4d3d-b7e8-a680ea00df31",
   "metadata": {},
   "outputs": [],
   "source": [
    "# 'setosa', 'versicolor'의 리스트 합치기\n",
    "length = setosa_length + versicolor_length\n",
    "width = setosa_width + versicolor_width\n",
    "\n",
    "print(length)\n",
    "print(width)"
   ]
  },
  {
   "cell_type": "code",
   "execution_count": null,
   "id": "744d2cc2-1482-4f9b-99b5-bfb255a7c08a",
   "metadata": {},
   "outputs": [],
   "source": [
    "# 'length', 'width'의 리스트 재생성\n",
    "iris_data = [[l, w] for l, w in zip(length, width)]\n",
    "\n",
    "print(iris_data)"
   ]
  },
  {
   "cell_type": "code",
   "execution_count": null,
   "id": "a3142d65-34c4-41d0-9f90-89110693a696",
   "metadata": {},
   "outputs": [],
   "source": [
    "# 정답 데이터 세트 생성.\n",
    "iris_target = [1] * 50 + [0] * 50\n",
    "\n",
    "print(iris_target)"
   ]
  },
  {
   "cell_type": "code",
   "execution_count": null,
   "id": "44c5563d-0cbb-469e-8e03-af7ea23006c3",
   "metadata": {},
   "outputs": [],
   "source": [
    "# K-최근접 이웃\n",
    "from sklearn.neighbors import KNeighborsClassifier"
   ]
  },
  {
   "cell_type": "code",
   "execution_count": null,
   "id": "eb959129-70dc-48c6-a8fd-8cff48c07a66",
   "metadata": {},
   "outputs": [],
   "source": [
    "kn = KNeighborsClassifier()"
   ]
  },
  {
   "cell_type": "code",
   "execution_count": null,
   "id": "d389f274-46a6-4c58-8c89-179fbd39cf37",
   "metadata": {},
   "outputs": [],
   "source": [
    "kn.fit(iris_data, iris_target)\n",
    "\n",
    "kn.score(iris_data, iris_target)"
   ]
  },
  {
   "cell_type": "code",
   "execution_count": null,
   "id": "7ac55d24-60c4-45b4-99d3-2284fb4090e0",
   "metadata": {},
   "outputs": [],
   "source": [
    "# 새로운 데이터 예측.\n",
    "plt.scatter(setosa_length, setosa_width)\n",
    "plt.scatter(versicolor_length, versicolor_width)\n",
    "plt.scatter(3.8, 1.5, marker='^')\n",
    "\n",
    "plt.xlabel('length')\n",
    "plt.ylabel('width')\n",
    "plt.title('setosa versicolor scatter')\n",
    "\n",
    "plt.show()"
   ]
  },
  {
   "cell_type": "code",
   "execution_count": null,
   "id": "b2e888b2-f6fa-43f3-9776-75b89a832f57",
   "metadata": {},
   "outputs": [],
   "source": [
    "kn.predict([[3.8, 1.5]])"
   ]
  }
 ],
 "metadata": {
  "kernelspec": {
   "display_name": "Python 3 (ipykernel)",
   "language": "python",
   "name": "python3"
  },
  "language_info": {
   "codemirror_mode": {
    "name": "ipython",
    "version": 3
   },
   "file_extension": ".py",
   "mimetype": "text/x-python",
   "name": "python",
   "nbconvert_exporter": "python",
   "pygments_lexer": "ipython3",
   "version": "3.11.5"
  }
 },
 "nbformat": 4,
 "nbformat_minor": 5
}
